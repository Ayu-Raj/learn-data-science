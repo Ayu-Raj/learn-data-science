{
 "cells": [
  {
   "cell_type": "markdown",
   "metadata": {},
   "source": [
    "# Numpy  "
   ]
  },
  {
   "cell_type": "code",
   "execution_count": 1,
   "metadata": {},
   "outputs": [],
   "source": [
    "import numpy as np\n",
    "import random"
   ]
  },
  {
   "cell_type": "code",
   "execution_count": 4,
   "metadata": {},
   "outputs": [
    {
     "data": {
      "text/plain": [
       "array([0, 1, 2, 3, 4, 5, 6, 7])"
      ]
     },
     "execution_count": 4,
     "metadata": {},
     "output_type": "execute_result"
    }
   ],
   "source": [
    "a = np.arange(8)\n",
    "a"
   ]
  },
  {
   "cell_type": "code",
   "execution_count": 5,
   "metadata": {},
   "outputs": [
    {
     "name": "stdout",
     "output_type": "stream",
     "text": [
      "[ 1000.          2154.43469003  4641.58883361 10000.        ]\n"
     ]
    }
   ],
   "source": [
    "c1 = np.logspace(3.0, 4.0, num=4)\n",
    "print(c1)\n"
   ]
  },
  {
   "cell_type": "code",
   "execution_count": 4,
   "metadata": {},
   "outputs": [
    {
     "name": "stdout",
     "output_type": "stream",
     "text": [
      "Org Array [0 1 2 3 4 5 6 7]\n",
      "[5 6 7]\n"
     ]
    }
   ],
   "source": [
    "print ('Org Array',a)\n",
    "print (a[5:8])"
   ]
  },
  {
   "cell_type": "code",
   "execution_count": 8,
   "metadata": {},
   "outputs": [
    {
     "name": "stdout",
     "output_type": "stream",
     "text": [
      "[[1 3 5 7 9]\n",
      " [1 3 5 7 9]\n",
      " [1 3 5 7 9]]\n"
     ]
    }
   ],
   "source": [
    "x1, y1 = np.meshgrid(np.arange(1, 11, 2), np.arange(-12, -3, 3))\n",
    "print(x1)\n"
   ]
  },
  {
   "cell_type": "code",
   "execution_count": 13,
   "metadata": {},
   "outputs": [
    {
     "data": {
      "text/plain": [
       "6"
      ]
     },
     "execution_count": 13,
     "metadata": {},
     "output_type": "execute_result"
    }
   ],
   "source": [
    "r = random.randint(1,8)\n",
    "r"
   ]
  },
  {
   "cell_type": "code",
   "execution_count": 14,
   "metadata": {},
   "outputs": [
    {
     "name": "stdout",
     "output_type": "stream",
     "text": [
      "[[1 2 3]\n",
      " [4 5 6]\n",
      " [7 8 9]]\n",
      "[7 8 9]\n"
     ]
    }
   ],
   "source": [
    "e = np.array([(1,2,3),(4,5,6),(7,8,9)])\n",
    "print(e)\n",
    "print(e[2])\n"
   ]
  },
  {
   "cell_type": "code",
   "execution_count": 26,
   "metadata": {},
   "outputs": [
    {
     "name": "stdout",
     "output_type": "stream",
     "text": [
      "[[7 8 9]]\n"
     ]
    }
   ],
   "source": [
    "#**Before comma row values and after comma column values**\n",
    "\n",
    "#all column from selected row\n",
    "print(e[2:])\n",
    "#all rows from selected column\n",
    "print(e[:1])"
   ]
  },
  {
   "cell_type": "markdown",
   "metadata": {},
   "source": [
    "# Array Slicing"
   ]
  },
  {
   "cell_type": "code",
   "execution_count": 44,
   "metadata": {},
   "outputs": [
    {
     "name": "stdout",
     "output_type": "stream",
     "text": [
      "[0 1 2 3 4 5 6 7 8 9]\n",
      "First 5 elements [0 1 2 3 4]\n",
      "Last from 5 [5 6 7 8 9]\n",
      "[2 4 6 8]\n",
      "9\n",
      "From end [5 6 7 8]\n",
      "Reverse [9 8 7 6 5 4 3 2 1 0]\n",
      "Every other element [0 2 4 6 8]\n"
     ]
    }
   ],
   "source": [
    "# Array Slicing -- Sub array\n",
    "# x[start:stop:step]\n",
    "x = np.arange(10)\n",
    "print(x)\n",
    "print('First 5 elements', x[:5])\n",
    "print('Last from 5', x[5:])\n",
    "print(x[2:10:2])\n",
    "# indexing from end of the array\n",
    "print(x[-1])\n",
    "print(\"From end\",x[-5:-1])\n",
    "# Reversing\n",
    "print(\"Reverse\",x[::-1])\n",
    "# Every other element\n",
    "print(\"Every other element\", x[::2])"
   ]
  },
  {
   "cell_type": "code",
   "execution_count": 47,
   "metadata": {},
   "outputs": [
    {
     "name": "stdout",
     "output_type": "stream",
     "text": [
      "[[1 2 5 6]\n",
      " [1 4 2 6]\n",
      " [1 8 3 7]]\n",
      "2nd row 3rd column\n",
      " [[1 2 5]\n",
      " [1 4 2]]\n",
      "all row, every other column\n",
      " [[1 5]\n",
      " [1 2]\n",
      " [1 3]]\n"
     ]
    }
   ],
   "source": [
    "# Multi Dimensional Subarray\n",
    "x2  = np.array([[1,2,5,6],[1,4,2,6],[1,8,3,7]])\n",
    "print(x2)\n",
    "# 2nd row 3rd column\n",
    "print(\"2nd row 3rd column\\n\", x2[:2, :3])\n",
    "# all row, every other column\n",
    "print(\"all row, every other column\\n\", x2[:3, ::2])"
   ]
  },
  {
   "cell_type": "code",
   "execution_count": 9,
   "metadata": {},
   "outputs": [
    {
     "name": "stdout",
     "output_type": "stream",
     "text": [
      "Org Array [[ 0  1  2  3  4]\n",
      " [ 5  6  7  8  9]\n",
      " [10 11 12 13 14]\n",
      " [15 16 17 18 19]]\n",
      "[[99  1  2  3  4]\n",
      " [ 5  6  7  8  9]\n",
      " [10 11 12 13 14]\n",
      " [15 16 17 18 19]]\n",
      "[[99  1  2  3  4]\n",
      " [ 5  6  7  8  9]\n",
      " [10 11 12 13 14]\n",
      " [15 16 17 18 19]]\n",
      "[[99  1]\n",
      " [ 5  6]]\n"
     ]
    }
   ],
   "source": [
    "# Creating copies of array\n",
    "a = np.arange(20).reshape(4,5)\n",
    "print(\"Org Array\",a)\n",
    "a[0,0] = 99\n",
    "print(a)\n",
    "print(a)\n",
    "x2_sub_copy = a[:2, :2].copy()\n",
    "print(x2_sub_copy)"
   ]
  },
  {
   "cell_type": "markdown",
   "metadata": {},
   "source": [
    "# Concatenation"
   ]
  },
  {
   "cell_type": "code",
   "execution_count": 18,
   "metadata": {},
   "outputs": [
    {
     "name": "stdout",
     "output_type": "stream",
     "text": [
      "[1 2 3 3 2 1]\n",
      "[99 21 43  1  2  3  3  2  1  5  2  5]\n",
      "[[1 2 4 4 1 7]\n",
      " [5 2 5 3 2 7]]\n",
      "[[1 2 4]\n",
      " [5 2 5]\n",
      " [4 1 7]\n",
      " [3 2 7]]\n"
     ]
    }
   ],
   "source": [
    "# Concatenation\n",
    "x = np.array([1,2,3])\n",
    "y = np.array([3,2,1])\n",
    "print(np.concatenate([x,y]))\n",
    "z = [99,21,43]\n",
    "c = [5,2,5]\n",
    "print(np.concatenate([z,x,y,c]))\n",
    "# concatenate column wise\n",
    "grid1 = np.array([[1,2,4],[5,2,5]])\n",
    "grid2 = np.array([[4,1,7],[3,2,7]])\n",
    "print(np.concatenate([grid1, grid2], axis=1))\n",
    "print(np.concatenate([grid1, grid2], axis=0)) #Row wise"
   ]
  },
  {
   "cell_type": "code",
   "execution_count": 26,
   "metadata": {},
   "outputs": [
    {
     "name": "stdout",
     "output_type": "stream",
     "text": [
      "[[1 2 4]\n",
      " [4 1 7]\n",
      " [3 2 7]]\n",
      "[[4 1 7 4]\n",
      " [3 2 7 3]]\n"
     ]
    }
   ],
   "source": [
    "# np.vstack\n",
    "# np.hstack\n",
    "# when you want concatenation in mixed dimension\n",
    "grid1 = np.array([1,2,4])\n",
    "grid2 = np.array([[4,1,7],[3,2,7]])\n",
    "grid3 = np.array([[4],[3]])\n",
    "vstack = np.vstack([grid1,grid2])\n",
    "print(vstack)\n",
    "hstack = np.hstack([grid2, grid3])\n",
    "print(hstack)"
   ]
  },
  {
   "cell_type": "markdown",
   "metadata": {},
   "source": [
    "# Splitting of array"
   ]
  },
  {
   "cell_type": "code",
   "execution_count": 40,
   "metadata": {},
   "outputs": [
    {
     "name": "stdout",
     "output_type": "stream",
     "text": [
      "[0 1 2 3 4 5 6 7 8 9]\n",
      "[0 1 2] [3 4] [5 6 7 8 9]\n",
      "\n",
      " [array([0, 1, 2, 3, 4]), array([5, 6, 7, 8, 9])]\n",
      "\n",
      " [[ 0  1  2  3]\n",
      " [ 4  5  6  7]\n",
      " [ 8  9 10 11]\n",
      " [12 13 14 15]]\n",
      "[[0 1 2 3]\n",
      " [4 5 6 7]]\n",
      "[[ 8  9 10 11]\n",
      " [12 13 14 15]]\n",
      "[[ 0]\n",
      " [ 4]\n",
      " [ 8]\n",
      " [12]]\n",
      "[[ 1  2  3]\n",
      " [ 5  6  7]\n",
      " [ 9 10 11]\n",
      " [13 14 15]]\n"
     ]
    }
   ],
   "source": [
    "# np.split, np.hsplit, np.vsplit\n",
    "x = np.arange(10)\n",
    "print(x)\n",
    "x1, x2, x3 = np.split(x, [3,5])\n",
    "print(x1, x2, x3)\n",
    "# Split array into multiple subarray\n",
    "w  = np.arange(8.0)\n",
    "print(\"\\n\",np.array_split(x,2))\n",
    "grid = np.arange(16).reshape((4,4))\n",
    "print(\"\\n\",grid)\n",
    "upper, lower = np.vsplit(grid,[2])\n",
    "print(upper)\n",
    "print(lower)\n",
    "left, right = np.hsplit(grid, [1])\n",
    "print(left)\n",
    "print(right)"
   ]
  },
  {
   "cell_type": "code",
   "execution_count": 55,
   "metadata": {},
   "outputs": [
    {
     "name": "stdout",
     "output_type": "stream",
     "text": [
      "-36.0\n",
      "36.0\n",
      "[ -36. -121. -256.]\n",
      "[ 36. 121. 256.]\n"
     ]
    }
   ],
   "source": [
    "# Computation on NUmpy Array:\n",
    "# Universal function\n",
    "x =10\n",
    "print(-(0.5*x+1)**2)\n",
    "print((0.5*x+1)**2)\n",
    "x =[10,20,30]\n",
    "print(-(np.multiply(x,0.5)+1)**2)\n",
    "print((np.multiply(x,0.5)+1)**2)"
   ]
  },
  {
   "cell_type": "code",
   "execution_count": 8,
   "metadata": {},
   "outputs": [
    {
     "name": "stdout",
     "output_type": "stream",
     "text": [
      "Values in farenheit\n",
      " [ 34.12  12.6   34.12   0.   123.3 ]\n",
      "Values in centigrate\n",
      " [  1.17777778 -10.77777778   1.17777778 -17.77777778  50.72222222]\n"
     ]
    }
   ],
   "source": [
    "# Fahrenheit to Centigrate\n",
    "fvalues = [34.12,12.6,34.12,0,123.3]\n",
    "F = np.array(fvalues)\n",
    "print(\"Values in farenheit\\n\",F)\n",
    "print(\"Values in centigrate\\n\",(5/9*(F-32)))"
   ]
  },
  {
   "cell_type": "markdown",
   "metadata": {},
   "source": [
    "# Multiplication"
   ]
  },
  {
   "cell_type": "code",
   "execution_count": 11,
   "metadata": {},
   "outputs": [
    {
     "name": "stdout",
     "output_type": "stream",
     "text": [
      "Dot product\n",
      " [[ 4  5]\n",
      " [51 70]]\n",
      "Matrix multiplication\n",
      " [[ 4  5]\n",
      " [51 70]]\n"
     ]
    }
   ],
   "source": [
    "\n",
    "a = np.array([[0,1],[5,9]])\n",
    "b = np.array([[3,5],[4,5]])\n",
    "dotproduct = np.dot(a,b)\n",
    "print(\"Dot product\\n\",dotproduct)\n",
    "multiply = np.matmul(a,b,out=None)\n",
    "print(\"Matrix multiplication\\n\", multiply)"
   ]
  },
  {
   "cell_type": "markdown",
   "metadata": {},
   "source": [
    "# Broadcasting"
   ]
  },
  {
   "cell_type": "code",
   "execution_count": 12,
   "metadata": {},
   "outputs": [
    {
     "name": "stdout",
     "output_type": "stream",
     "text": [
      "[5 6 7]\n"
     ]
    }
   ],
   "source": [
    "x = np.arange(3)+5\n",
    "print(x)"
   ]
  },
  {
   "cell_type": "markdown",
   "metadata": {},
   "source": [
    "# Fancy Indexing\n",
    "passing an array of indices to access multiply array elements at once."
   ]
  },
  {
   "cell_type": "code",
   "execution_count": 26,
   "metadata": {},
   "outputs": [
    {
     "name": "stdout",
     "output_type": "stream",
     "text": [
      "[51 92 14 71 60 20 82 86 74 74]\n",
      "[71 86 60]\n"
     ]
    }
   ],
   "source": [
    "rand = np.random.RandomState(42)\n",
    "x = rand.randint(100,size=10)\n",
    "print(x)\n",
    "ind  = [3,7,4]\n",
    "print(x[ind])"
   ]
  },
  {
   "cell_type": "code",
   "execution_count": 19,
   "metadata": {},
   "outputs": [
    {
     "name": "stdout",
     "output_type": "stream",
     "text": [
      "[[ 0  1  2  3]\n",
      " [ 4  5  6  7]\n",
      " [ 8  9 10 11]]\n",
      "\n",
      " [ 2  5 11]\n"
     ]
    }
   ],
   "source": [
    "# ind  = np.array([[3,7],[4,5]])\n",
    "# x[ind]\n",
    "X = np.arange(12).reshape((3,4))\n",
    "print(X)\n",
    "row  = np.array([0,1,2])\n",
    "col = np.array([2,1,3])\n",
    "print(\"\\n\",X[row,col])"
   ]
  },
  {
   "cell_type": "markdown",
   "metadata": {},
   "source": [
    "# Functions\n",
    "Sorting\n",
    "Regression\n",
    "Covariance\n",
    "Correlation"
   ]
  },
  {
   "cell_type": "code",
   "execution_count": 28,
   "metadata": {},
   "outputs": [
    {
     "name": "stdout",
     "output_type": "stream",
     "text": [
      "[ 0.  0.  0.  0. 10.  0.  0.  0.  0.  0.]\n"
     ]
    }
   ],
   "source": [
    "#1D array\n",
    "Z  = np.zeros(10)\n",
    "Z[4] =10\n",
    "print(Z)"
   ]
  },
  {
   "cell_type": "code",
   "execution_count": 33,
   "metadata": {},
   "outputs": [
    {
     "name": "stdout",
     "output_type": "stream",
     "text": [
      "[[10 11 12 13]\n",
      " [14 15 16 17]\n",
      " [18 19 20 21]\n",
      " [22 23 24 25]\n",
      " [26 27 28 29]]\n"
     ]
    }
   ],
   "source": [
    "#2D array of shape(5,2). Element between 10,20 and gap between elements must be equal\n",
    "arr = np.arange(10,30)\n",
    "ar1 = arr.reshape(5,4)\n",
    "print(ar1)"
   ]
  },
  {
   "cell_type": "code",
   "execution_count": null,
   "metadata": {},
   "outputs": [],
   "source": []
  }
 ],
 "metadata": {
  "kernelspec": {
   "display_name": "Python 3",
   "language": "python",
   "name": "python3"
  },
  "language_info": {
   "codemirror_mode": {
    "name": "ipython",
    "version": 3
   },
   "file_extension": ".py",
   "mimetype": "text/x-python",
   "name": "python",
   "nbconvert_exporter": "python",
   "pygments_lexer": "ipython3",
   "version": "3.6.5"
  }
 },
 "nbformat": 4,
 "nbformat_minor": 2
}
