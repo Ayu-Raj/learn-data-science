{
 "cells": [
  {
   "cell_type": "code",
   "execution_count": 1,
   "metadata": {},
   "outputs": [],
   "source": [
    "import pandas as pd\n",
    "import numpy as np"
   ]
  },
  {
   "cell_type": "markdown",
   "metadata": {},
   "source": [
    "loc get rows or columns from label"
   ]
  },
  {
   "cell_type": "code",
   "execution_count": 8,
   "metadata": {},
   "outputs": [
    {
     "name": "stdout",
     "output_type": "stream",
     "text": [
      "          A         B         C\n",
      "a  0.834996  0.573555 -1.138560\n",
      "b -1.148563  0.926685  0.327385\n",
      "c  0.388299 -0.568219  0.601942\n",
      "d -2.000731  0.506878 -0.056686\n",
      "e -0.845131 -1.957454 -0.826050\n"
     ]
    }
   ],
   "source": [
    "df = pd.DataFrame(np.random.randn(5,3),index = ['a','b','c','d','e'], columns= ['A','B','C'])\n",
    "print(df)"
   ]
  },
  {
   "cell_type": "code",
   "execution_count": 9,
   "metadata": {},
   "outputs": [
    {
     "name": "stdout",
     "output_type": "stream",
     "text": [
      "          A\n",
      "a  0.834996\n",
      "b -1.148563\n",
      "c  0.388299\n",
      "d -2.000731\n",
      "e -0.845131\n"
     ]
    }
   ],
   "source": [
    "print(df.loc[:,['A']])"
   ]
  },
  {
   "cell_type": "code",
   "execution_count": 10,
   "metadata": {},
   "outputs": [
    {
     "name": "stdout",
     "output_type": "stream",
     "text": [
      "          A         B\n",
      "a  0.834996  0.573555\n",
      "b -1.148563  0.926685\n",
      "c  0.388299 -0.568219\n",
      "d -2.000731  0.506878\n",
      "e -0.845131 -1.957454\n"
     ]
    }
   ],
   "source": [
    "print(df.loc[:,['A','B']])"
   ]
  },
  {
   "cell_type": "code",
   "execution_count": 12,
   "metadata": {},
   "outputs": [
    {
     "name": "stdout",
     "output_type": "stream",
     "text": [
      "          A         B         C\n",
      "a  0.834996  0.573555 -1.138560\n",
      "b -1.148563  0.926685  0.327385\n",
      "c  0.388299 -0.568219  0.601942\n",
      "d -2.000731  0.506878 -0.056686\n",
      "e -0.845131 -1.957454 -0.826050\n"
     ]
    }
   ],
   "source": [
    "print(df.loc['a':'e'])"
   ]
  },
  {
   "cell_type": "markdown",
   "metadata": {},
   "source": [
    "iloc "
   ]
  },
  {
   "cell_type": "code",
   "execution_count": 31,
   "metadata": {},
   "outputs": [
    {
     "name": "stdout",
     "output_type": "stream",
     "text": [
      "          A         B\n",
      "a  0.834996  0.573555\n",
      "b -1.148563  0.926685\n"
     ]
    }
   ],
   "source": [
    "# select all columns for mentioned rows\n",
    "print(df.iloc[:2])"
   ]
  },
  {
   "cell_type": "code",
   "execution_count": 32,
   "metadata": {},
   "outputs": [
    {
     "name": "stdout",
     "output_type": "stream",
     "text": [
      "          A\n",
      "a  0.834996\n",
      "b -1.148563\n"
     ]
    }
   ],
   "source": [
    "# select particular columns for mentioned rows\n",
    "print(df.iloc[:2,:1])"
   ]
  },
  {
   "cell_type": "code",
   "execution_count": 44,
   "metadata": {},
   "outputs": [
    {
     "name": "stdout",
     "output_type": "stream",
     "text": [
      "          A         B         C         D\n",
      "0 -1.532058 -0.365565  0.096537 -1.170152\n",
      "1 -0.311440  0.329013 -0.024778 -0.950914\n",
      "2 -0.616666 -1.225145  1.400501 -0.486876\n",
      "3 -1.572022 -0.083785  0.481043  1.382001\n",
      "4  0.232557 -1.251559 -0.066439  0.557450\n",
      "5  1.571647 -0.629516 -0.571846 -0.531753\n",
      "6  0.842726 -1.279999  0.528911  1.092945\n",
      "7 -0.041476 -1.964147 -0.067992 -0.794282\n",
      "\n",
      "          C\n",
      "1 -0.024778\n",
      "2  1.400501\n",
      "\n",
      "          B         C\n",
      "1  0.329013 -0.024778\n",
      "\n",
      "          B\n",
      "1  0.329013\n",
      "\n",
      "          B         D\n",
      "1  0.329013 -0.950914\n",
      "3 -0.083785  1.382001\n",
      "5 -0.629516 -0.531753\n"
     ]
    }
   ],
   "source": [
    "df = pd.DataFrame(np.random.randn(8,4), columns = ['A','B','C','D'])\n",
    "print(df)\n",
    "print()\n",
    "print(df.iloc[1:3,2:3])\n",
    "print()\n",
    "print(df.iloc[1:2,1:3])\n",
    "print()\n",
    "print(df.iloc[1:2,1:2])\n",
    "print()\n",
    "print(df.iloc[[1,3,5],[1,3]])"
   ]
  },
  {
   "cell_type": "markdown",
   "metadata": {},
   "source": [
    ".ix select rows from a pandas dataFrame based on values in a column"
   ]
  },
  {
   "cell_type": "code",
   "execution_count": 61,
   "metadata": {},
   "outputs": [],
   "source": [
    "raw_data = {'name':['Ayush','Animesh','Avinash','Arun'], 'age':[21,20,65,23], 'gender':['Male','Male','Female','Male']}"
   ]
  },
  {
   "cell_type": "code",
   "execution_count": 62,
   "metadata": {},
   "outputs": [
    {
     "data": {
      "text/html": [
       "<div>\n",
       "<style scoped>\n",
       "    .dataframe tbody tr th:only-of-type {\n",
       "        vertical-align: middle;\n",
       "    }\n",
       "\n",
       "    .dataframe tbody tr th {\n",
       "        vertical-align: top;\n",
       "    }\n",
       "\n",
       "    .dataframe thead th {\n",
       "        text-align: right;\n",
       "    }\n",
       "</style>\n",
       "<table border=\"1\" class=\"dataframe\">\n",
       "  <thead>\n",
       "    <tr style=\"text-align: right;\">\n",
       "      <th></th>\n",
       "      <th>name</th>\n",
       "      <th>age</th>\n",
       "      <th>gender</th>\n",
       "    </tr>\n",
       "  </thead>\n",
       "  <tbody>\n",
       "    <tr>\n",
       "      <th>0</th>\n",
       "      <td>Ayush</td>\n",
       "      <td>21</td>\n",
       "      <td>Male</td>\n",
       "    </tr>\n",
       "    <tr>\n",
       "      <th>1</th>\n",
       "      <td>Animesh</td>\n",
       "      <td>20</td>\n",
       "      <td>Male</td>\n",
       "    </tr>\n",
       "    <tr>\n",
       "      <th>2</th>\n",
       "      <td>Avinash</td>\n",
       "      <td>65</td>\n",
       "      <td>Female</td>\n",
       "    </tr>\n",
       "    <tr>\n",
       "      <th>3</th>\n",
       "      <td>Arun</td>\n",
       "      <td>23</td>\n",
       "      <td>Male</td>\n",
       "    </tr>\n",
       "  </tbody>\n",
       "</table>\n",
       "</div>"
      ],
      "text/plain": [
       "      name  age  gender\n",
       "0    Ayush   21    Male\n",
       "1  Animesh   20    Male\n",
       "2  Avinash   65  Female\n",
       "3     Arun   23    Male"
      ]
     },
     "execution_count": 62,
     "metadata": {},
     "output_type": "execute_result"
    }
   ],
   "source": [
    "df = pd.DataFrame(raw_data)\n",
    "df.head(6)"
   ]
  },
  {
   "cell_type": "code",
   "execution_count": 63,
   "metadata": {},
   "outputs": [
    {
     "name": "stdout",
     "output_type": "stream",
     "text": [
      "      name  age gender\n",
      "0    Ayush   21   Male\n",
      "1  Animesh   20   Male\n",
      "3     Arun   23   Male\n"
     ]
    }
   ],
   "source": [
    "print(df.loc[df['gender'] == 'Male'])"
   ]
  },
  {
   "cell_type": "code",
   "execution_count": 64,
   "metadata": {},
   "outputs": [
    {
     "name": "stdout",
     "output_type": "stream",
     "text": [
      "0     True\n",
      "1     True\n",
      "2    False\n",
      "3    False\n",
      "Name: name, dtype: bool\n"
     ]
    }
   ],
   "source": [
    "array = ['Ayush','Animesh']\n",
    "print(df['name'].isin(array))"
   ]
  },
  {
   "cell_type": "markdown",
   "metadata": {},
   "source": [
    "Selected rows based on multiple conditions"
   ]
  },
  {
   "cell_type": "code",
   "execution_count": 65,
   "metadata": {},
   "outputs": [
    {
     "name": "stdout",
     "output_type": "stream",
     "text": [
      "    name  age gender\n",
      "0  Ayush   21   Male\n"
     ]
    }
   ],
   "source": [
    "print(df.loc[(df['age']==21)&df['name'].isin(array)])"
   ]
  },
  {
   "cell_type": "markdown",
   "metadata": {},
   "source": [
    "Select rows whose column value is not in an iterable array"
   ]
  },
  {
   "cell_type": "code",
   "execution_count": 66,
   "metadata": {},
   "outputs": [
    {
     "name": "stdout",
     "output_type": "stream",
     "text": [
      "      name  age  gender\n",
      "2  Avinash   65  Female\n",
      "3     Arun   23    Male\n"
     ]
    }
   ],
   "source": [
    "print(df.loc[~df['name'].isin(array)])"
   ]
  },
  {
   "cell_type": "code",
   "execution_count": null,
   "metadata": {},
   "outputs": [],
   "source": []
  }
 ],
 "metadata": {
  "kernelspec": {
   "display_name": "Python 3",
   "language": "python",
   "name": "python3"
  },
  "language_info": {
   "codemirror_mode": {
    "name": "ipython",
    "version": 3
   },
   "file_extension": ".py",
   "mimetype": "text/x-python",
   "name": "python",
   "nbconvert_exporter": "python",
   "pygments_lexer": "ipython3",
   "version": "3.6.5"
  }
 },
 "nbformat": 4,
 "nbformat_minor": 2
}
